{
 "cells": [
  {
   "cell_type": "code",
   "execution_count": 6,
   "id": "e6ffd39a",
   "metadata": {},
   "outputs": [
    {
     "name": "stdout",
     "output_type": "stream",
     "text": [
      "2 5\n",
      "1 2\n",
      "4 4\n",
      "2 3\n",
      "2 1\n",
      "Given input is  [(2, 5), (1, 2), (4, 4), (2, 3), (2, 1)]\n",
      "\n",
      "Sorted input is  [(2, 1), (1, 2), (2, 3), (4, 4), (2, 5)]\n"
     ]
    }
   ],
   "source": [
    "x=[tuple([int(x) for x in input().split()]) for i in range(5)]\n",
    "print(\"Given input is \", x)\n",
    "m=len(x)\n",
    "xn=[]\n",
    "while len(xn)<m:\n",
    "    small=x[0]\n",
    "    for i in range(1,len(x)):\n",
    "        if x[i][1]<small[1]:\n",
    "            small=x[i]\n",
    "    xn.append(small)\n",
    "    x.remove(small)   \n",
    "print(\"\\nSorted input is \", xn)"
   ]
  },
  {
   "cell_type": "markdown",
   "id": "ee4b6b7b",
   "metadata": {},
   "source": []
  }
 ],
 "metadata": {
  "kernelspec": {
   "display_name": "Python 3 (ipykernel)",
   "language": "python",
   "name": "python3"
  },
  "language_info": {
   "codemirror_mode": {
    "name": "ipython",
    "version": 3
   },
   "file_extension": ".py",
   "mimetype": "text/x-python",
   "name": "python",
   "nbconvert_exporter": "python",
   "pygments_lexer": "ipython3",
   "version": "3.9.12"
  }
 },
 "nbformat": 4,
 "nbformat_minor": 5
}
